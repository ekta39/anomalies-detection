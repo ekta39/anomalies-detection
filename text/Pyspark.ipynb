{
 "cells": [
  {
   "cell_type": "code",
   "execution_count": 97,
   "id": "1bcdca2f-f1f4-4da5-bf88-e9ff764a384b",
   "metadata": {},
   "outputs": [],
   "source": [
    "#Generating the test data for log analysis.\n",
    "\n",
    "import random\n",
    "import gzip\n",
    "from datetime import datetime, timedelta\n",
    "\n",
    "# Define log entry template\n",
    "log_entry_template = '{ip} {identd} {user} [{datetime}] {method} {endpoint} {protocol} {response_code} {content_size}'\n",
    "\n",
    "# Define IP addresses\n",
    "ip_addresses = [\n",
    "    '192.168.1.1', '192.168.1.2', '192.168.1.3', '192.168.1.4', '192.168.1.5',\n",
    "    '10.0.0.1', '10.0.0.2', '10.0.0.3', '10.0.0.4', '10.0.0.5'\n",
    "]\n",
    "\n",
    "# Define user identities\n",
    "identities = ['-', 'user1', 'user2', 'user3', 'user4']\n",
    "\n",
    "# Define usernames\n",
    "usernames = ['-', 'john', 'jane', 'bob', 'alice']\n",
    "\n",
    "# Define HTTP methods\n",
    "methods = ['GET', 'POST', 'PUT', 'DELETE', 'HEAD']\n",
    "\n",
    "# Define endpoints\n",
    "endpoints = ['/index.html', '/about', '/contact', '/products', '/services']\n",
    "\n",
    "# Define protocols\n",
    "protocols = ['HTTP/1.1', 'HTTP/1.0']\n",
    "\n",
    "# Define response codes\n",
    "response_codes = [200, 404, 500, 301, 302, 503, 201]\n",
    "\n",
    "# Define content sizes\n",
    "content_sizes = [100, 200, 300, 400, 500, 0]\n",
    "\n",
    "# Generate log entries\n",
    "log_entries = []\n",
    "start_date = datetime(2023, 1, 1)\n",
    "for _ in range(10000):\n",
    "    ip = random.choice(ip_addresses)\n",
    "    identd = random.choice(identities)\n",
    "    user = random.choice(usernames)\n",
    "    datetime_str = (start_date + timedelta(seconds=random.randint(0, 86400))).strftime('%d/%b/%Y:%H:%M:%S%z')\n",
    "    method = random.choice(methods)\n",
    "    endpoint = random.choice(endpoints)\n",
    "    protocol = random.choice(protocols)\n",
    "    response_code = random.choice(response_codes)\n",
    "    content_size = random.choice(content_sizes)\n",
    "\n",
    "    log_entry = log_entry_template.format(ip=ip, identd=identd, user=user, datetime=datetime_str,\n",
    "                                          method=method, endpoint=endpoint, protocol=protocol,\n",
    "                                          response_code=response_code, content_size=content_size)\n",
    "    log_entries.append(log_entry)\n",
    "\n",
    "# Write log entries to a file and compress it\n",
    "with gzip.open('access.log.gz', 'wb') as f:\n",
    "    for entry in log_entries:\n",
    "        f.write(f'{entry}\\n'.encode())"
   ]
  },
  {
   "cell_type": "code",
   "execution_count": 98,
   "id": "9bdd729c-3d39-4935-b5a5-278f14077339",
   "metadata": {},
   "outputs": [],
   "source": [
    "# Initialize SparkSession\n",
    "from pyspark.sql import SparkSession\n",
    "spark = SparkSession.builder.appName(\"Generate Sample Apache Logs\").getOrCreate()"
   ]
  },
  {
   "cell_type": "code",
   "execution_count": 80,
   "id": "814b2e98-d24f-4016-8e27-5d6a8189cf2f",
   "metadata": {},
   "outputs": [],
   "source": [
    "logs_df = spark.read.text(\"access.log.gz\")"
   ]
  },
  {
   "cell_type": "code",
   "execution_count": 81,
   "id": "b1a48242-b77f-496c-877a-17edb995e723",
   "metadata": {},
   "outputs": [
    {
     "name": "stdout",
     "output_type": "stream",
     "text": [
      "+-------------------------------------------------------------------------------+\n",
      "|value                                                                          |\n",
      "+-------------------------------------------------------------------------------+\n",
      "|192.168.1.1 user2 jane [01/Jan/2023:15:09:53] DELETE /services HTTP/1.1 302 400|\n",
      "|192.168.1.1 user1 jane [01/Jan/2023:20:09:41] HEAD /products HTTP/1.0 404 400  |\n",
      "|10.0.0.3 user1 jane [01/Jan/2023:22:27:45] PUT /contact HTTP/1.0 302 500       |\n",
      "|192.168.1.3 - jane [01/Jan/2023:16:26:52] GET /index.html HTTP/1.0 200 400     |\n",
      "|10.0.0.3 user3 alice [01/Jan/2023:06:16:58] GET /about HTTP/1.0 404 200        |\n",
      "+-------------------------------------------------------------------------------+\n",
      "only showing top 5 rows\n",
      "\n"
     ]
    }
   ],
   "source": [
    "logs_df.show(5, truncate=False)"
   ]
  },
  {
   "cell_type": "code",
   "execution_count": 82,
   "id": "3fba59d1-76c3-4c6f-8c0a-1fb4318b198d",
   "metadata": {},
   "outputs": [
    {
     "name": "stdout",
     "output_type": "stream",
     "text": [
      "+--------------------+-----------+------+-----+--------------------+------+-----------+--------+-------------+------------+\n",
      "|               value|         ip|identd| user|            datetime|method|   endpoint|protocol|response_code|content_size|\n",
      "+--------------------+-----------+------+-----+--------------------+------+-----------+--------+-------------+------------+\n",
      "|192.168.1.1 user2...|192.168.1.1| user2| jane|[01/Jan/2023:15:0...|DELETE|  /services|HTTP/1.1|          302|         400|\n",
      "|192.168.1.1 user1...|192.168.1.1| user1| jane|[01/Jan/2023:20:0...|  HEAD|  /products|HTTP/1.0|          404|         400|\n",
      "|10.0.0.3 user1 ja...|   10.0.0.3| user1| jane|[01/Jan/2023:22:2...|   PUT|   /contact|HTTP/1.0|          302|         500|\n",
      "|192.168.1.3 - jan...|192.168.1.3|     -| jane|[01/Jan/2023:16:2...|   GET|/index.html|HTTP/1.0|          200|         400|\n",
      "|10.0.0.3 user3 al...|   10.0.0.3| user3|alice|[01/Jan/2023:06:1...|   GET|     /about|HTTP/1.0|          404|         200|\n",
      "+--------------------+-----------+------+-----+--------------------+------+-----------+--------+-------------+------------+\n",
      "only showing top 5 rows\n",
      "\n"
     ]
    }
   ],
   "source": [
    "# Data Transformation\n",
    "from pyspark.sql.functions import col, split\n",
    "\n",
    "# Data Format '{ip} {identd} {user} [{datetime}] \"{method} {endpoint} {protocol}\" {response_code} {content_size}'\n",
    "logs_df = logs_df.withColumn(\"ip\", split(col(\"value\"), \" \")[0])\n",
    "logs_df = logs_df.withColumn(\"identd\", split(col(\"value\"), \" \")[1])\n",
    "logs_df = logs_df.withColumn(\"user\", split(col(\"value\"), \" \")[2])\n",
    "logs_df = logs_df.withColumn(\"datetime\", split(col(\"value\"), \" \")[3])\n",
    "logs_df = logs_df.withColumn(\"method\", split(col(\"value\"), \" \")[4])\n",
    "logs_df = logs_df.withColumn(\"endpoint\", split(col(\"value\"), \" \")[5])\n",
    "logs_df = logs_df.withColumn(\"protocol\", split(col(\"value\"), \" \")[6])\n",
    "logs_df = logs_df.withColumn(\"response_code\", split(col(\"value\"), \" \")[7])\n",
    "logs_df = logs_df.withColumn(\"content_size\", split(col(\"value\"), \" \")[8])\n",
    "logs_df.show(5)"
   ]
  },
  {
   "cell_type": "code",
   "execution_count": 85,
   "id": "b3c1ef63-b66d-4c41-8e1c-63e0ffd83b8f",
   "metadata": {},
   "outputs": [
    {
     "name": "stdout",
     "output_type": "stream",
     "text": [
      "+--------------------+-----------+------+-----+--------------------+-----------+-----------+--------+-------------+------------+--------+\n",
      "|               value|         ip|identd| user|            datetime|     method|   endpoint|protocol|response_code|content_size| endoint|\n",
      "+--------------------+-----------+------+-----+--------------------+-----------+-----------+--------+-------------+------------+--------+\n",
      "|192.168.1.1 user2...|192.168.1.1| user2| jane|[01/Jan/2023:15:0...|  /services|  /services|     302|          400|         400|HTTP/1.1|\n",
      "|192.168.1.1 user1...|192.168.1.1| user1| jane|[01/Jan/2023:20:0...|  /products|  /products|     404|          400|         400|HTTP/1.0|\n",
      "|10.0.0.3 user1 ja...|   10.0.0.3| user1| jane|[01/Jan/2023:22:2...|   /contact|   /contact|     302|          500|         500|HTTP/1.0|\n",
      "|192.168.1.3 - jan...|192.168.1.3|     -| jane|[01/Jan/2023:16:2...|/index.html|/index.html|     200|          400|         400|HTTP/1.0|\n",
      "|10.0.0.3 user3 al...|   10.0.0.3| user3|alice|[01/Jan/2023:06:1...|     /about|     /about|     404|          200|         200|HTTP/1.0|\n",
      "+--------------------+-----------+------+-----+--------------------+-----------+-----------+--------+-------------+------------+--------+\n",
      "only showing top 5 rows\n",
      "\n"
     ]
    }
   ],
   "source": [
    "# Data Transformation\n",
    "from pyspark.sql.functions import col, split\n",
    "\n",
    "# Data Format '{ip} {identd} {user} [{datetime}] \"{method} {endpoint} {protocol}\" {response_code} {content_size}'\n",
    "\n",
    "logs_df = logs_df.withColumn(\"ip\", split(col(\"value\"), \" \")[0])\n",
    "logs_df = logs_df.withColumn(\"identd\", split(col(\"value\"), \" \")[1])\n",
    "logs_df = logs_df.withColumn(\"user\", split(col(\"value\"), \" \")[2])\n",
    "logs_df = logs_df.withColumn(\"datetime\", split(col(\"value\"), \" \")[3])\n",
    "logs_df = logs_df.withColumn(\"method\", split(col(\"value\"), \" \")[5])\n",
    "logs_df = logs_df.withColumn(\"endoint\", split(col(\"value\"), \" \")[6])\n",
    "logs_df = logs_df.withColumn(\"protocol\", split(col(\"value\"), \" \")[7])\n",
    "logs_df = logs_df.withColumn(\"response_code\", split(col(\"value\"), \" \")[8])\n",
    "logs_df = logs_df.withColumn(\"content_size\", split(col(\"value\"), \" \")[8])\n",
    "logs_df.show(5)"
   ]
  },
  {
   "cell_type": "code",
   "execution_count": 86,
   "id": "48af4532-9b24-4cf0-9179-2bb4020e7485",
   "metadata": {},
   "outputs": [
    {
     "name": "stdout",
     "output_type": "stream",
     "text": [
      "+-----------+-----+\n",
      "|   endpoint|count|\n",
      "+-----------+-----+\n",
      "|     /about| 2037|\n",
      "|  /products| 2015|\n",
      "|   /contact| 2015|\n",
      "|  /services| 1980|\n",
      "|/index.html| 1953|\n",
      "+-----------+-----+\n",
      "\n"
     ]
    }
   ],
   "source": [
    "# Traffic Analysis: Top Endpoints\n",
    "top_endpoints = logs_df.groupBy(\"endpoint\").count().orderBy(\"count\", ascending=False)\n",
    "top_endpoints.show(10)"
   ]
  },
  {
   "cell_type": "code",
   "execution_count": 87,
   "id": "aaca888a-f890-44d3-a931-9de94f0dca0f",
   "metadata": {},
   "outputs": [],
   "source": [
    "# Cast content_size to integer\n",
    "logs_df = logs_df.withColumn(\"content_size\", col(\"content_size\").cast(\"int\"))"
   ]
  },
  {
   "cell_type": "code",
   "execution_count": 88,
   "id": "5d6270c0-3f55-49fe-ac06-7a8a4f2581e1",
   "metadata": {},
   "outputs": [
    {
     "name": "stdout",
     "output_type": "stream",
     "text": [
      "+-----------+------------------+\n",
      "|   endpoint|total_content_size|\n",
      "+-----------+------------------+\n",
      "|  /products|            520100|\n",
      "|     /about|            519000|\n",
      "|   /contact|            503400|\n",
      "|  /services|            500200|\n",
      "|/index.html|            494200|\n",
      "+-----------+------------------+\n",
      "\n"
     ]
    }
   ],
   "source": [
    "# Top endpoints transferring maximum content\n",
    "from pyspark.sql.functions import desc\n",
    "top_endpoints_by_content = logs_df.groupBy(\"endpoint\").sum(\"content_size\") \\\n",
    "    .orderBy(desc(\"sum(content_size)\")).withColumnRenamed(\"sum(content_size)\", \"total_content_size\")\n",
    "top_endpoints_by_content.show(10)"
   ]
  },
  {
   "cell_type": "code",
   "execution_count": 89,
   "id": "11aada79-c136-468f-9fdd-ef6f507fdab8",
   "metadata": {},
   "outputs": [
    {
     "name": "stdout",
     "output_type": "stream",
     "text": [
      "+--------+-----+\n",
      "|      ip|count|\n",
      "+--------+-----+\n",
      "|10.0.0.3| 1043|\n",
      "|10.0.0.2| 1036|\n",
      "|10.0.0.4| 1016|\n",
      "|10.0.0.5| 1014|\n",
      "+--------+-----+\n",
      "\n"
     ]
    }
   ],
   "source": [
    "# Frequent Visitors who is visiting \n",
    "\n",
    "frequent_visitors = logs_df.groupBy(\"ip\").count().filter(col(\"count\") >= 1000).orderBy(\"count\", ascending=False)\n",
    "frequent_visitors.show()"
   ]
  },
  {
   "cell_type": "code",
   "execution_count": 90,
   "id": "c4ba5bf6-f51a-4c69-98f1-ae5668a16e64",
   "metadata": {},
   "outputs": [
    {
     "name": "stdout",
     "output_type": "stream",
     "text": [
      "+----------------+----------------+--------------+--------------+\n",
      "|min_content_size|max_content_size|total_requests|total_requests|\n",
      "+----------------+----------------+--------------+--------------+\n",
      "|               0|             500|        253.69|         10000|\n",
      "+----------------+----------------+--------------+--------------+\n",
      "\n"
     ]
    }
   ],
   "source": [
    "# Calculating statistics related to content size \n",
    "from pyspark.sql.functions import min, max, avg, count\n",
    "\n",
    "content_size_stats = logs_df.select( min(\"content_size\").alias(\"min_content_size\"),\n",
    "                                     max(\"content_size\").alias(\"max_content_size\"),\n",
    "                                     avg(\"content_size\").alias(\"total_requests\"),\n",
    "                                     count(\"content_size\").alias(\"total_requests\"))\n",
    "content_size_stats.show()\n"
   ]
  },
  {
   "cell_type": "code",
   "execution_count": 91,
   "id": "88d88bcb-d1a6-4a92-b589-29c754d3d202",
   "metadata": {},
   "outputs": [
    {
     "name": "stdout",
     "output_type": "stream",
     "text": [
      "+--------+-----+\n",
      "|      ip|count|\n",
      "+--------+-----+\n",
      "|10.0.0.5| 1014|\n",
      "|10.0.0.2| 1036|\n",
      "|10.0.0.3| 1043|\n",
      "|10.0.0.4| 1016|\n",
      "+--------+-----+\n",
      "\n"
     ]
    }
   ],
   "source": [
    "# Anomaly Detection\n",
    "#IPs with More Than 1000 Requests\n",
    "\n",
    "anomalous_ips = logs_df.groupBy(\"ip\").count().filter(col(\"count\") > 1000)\n",
    "anomalous_ips.show()"
   ]
  },
  {
   "cell_type": "code",
   "execution_count": 99,
   "id": "b47c5b9d-f013-4a35-ba41-44c271febf06",
   "metadata": {},
   "outputs": [
    {
     "name": "stdout",
     "output_type": "stream",
     "text": [
      "+--------+--------+\n",
      "|datetime|endpoint|\n",
      "+--------+--------+\n",
      "+--------+--------+\n",
      "\n"
     ]
    }
   ],
   "source": [
    "# 404 Requests\n",
    "\n",
    "latest_404_requests = logs_df.filter(col(\"response_code\") == 404).orderBy(col(\"datetime\"),\\\n",
    "                       ascending=False).select(\"datetime\", \"endpoint\").limit(10)\n",
    "\n",
    "latest_404_requests.show(truncate=False)\n",
    "\n",
    "# Analyzing bad requests (404 errors)\n",
    "latest_404_requests = logs_df.filter(col(\"response_code\") == 404) \\\n",
    "    .orderBy(desc(\"timestamp\")).select(\"timestamp\", \"endpoint\").limit(10)\n",
    "latest_404_requests.show()"
   ]
  },
  {
   "cell_type": "code",
   "execution_count": 100,
   "id": "362472b1-844e-4dc9-a84a-4fe2e39f4648",
   "metadata": {},
   "outputs": [
    {
     "name": "stdout",
     "output_type": "stream",
     "text": [
      "+-----------+-----+\n",
      "|     method|count|\n",
      "+-----------+-----+\n",
      "|     /about| 1321|\n",
      "|   /contact| 1307|\n",
      "|/index.html| 1345|\n",
      "|  /products| 1357|\n",
      "|  /services| 1301|\n",
      "+-----------+-----+\n",
      "\n"
     ]
    }
   ],
   "source": [
    "# Count of Requests by HTTP Method\n",
    "requests_by_method = logs_df.groupBy(\"method\").count().orderBy(\"method\")\n",
    "requests_by_method.show()\n"
   ]
  },
  {
   "cell_type": "code",
   "execution_count": 103,
   "id": "54ee6a19-b6a1-44fa-8dbd-1f564d41a892",
   "metadata": {},
   "outputs": [
    {
     "name": "stdout",
     "output_type": "stream",
     "text": [
      "+-------------+-----+\n",
      "|response_code|count|\n",
      "+-------------+-----+\n",
      "|            0| 1081|\n",
      "|          100| 1118|\n",
      "|          200| 1080|\n",
      "|          300| 1101|\n",
      "|          400| 1155|\n",
      "|          500| 1096|\n",
      "+-------------+-----+\n",
      "\n"
     ]
    }
   ],
   "source": [
    "# Response Code Analysis\n",
    "response_code_analysis = logs_df.groupBy(\"response_code\").count().orderBy(\"response_code\")\n",
    "response_code_analysis.show()\n"
   ]
  },
  {
   "cell_type": "code",
   "execution_count": 102,
   "id": "2a481729-70f4-4a5d-88c7-ff772d5bb1fd",
   "metadata": {},
   "outputs": [
    {
     "name": "stdout",
     "output_type": "stream",
     "text": [
      "Successful Requests: 16.29%\n",
      "Error Requests: 83.71%\n"
     ]
    }
   ],
   "source": [
    "# Calculate percentage of successful requests\n",
    "total_requests = logs_df.count()\n",
    "successful_requests = logs_df.filter(col(\"response_code\") == 200).count()\n",
    "error_requests = total_requests - successful_requests\n",
    "success_percentage = (successful_requests / total_requests) * 100\n",
    "error_percentage = 100 - success_percentage\n",
    "print(f\"Successful Requests: {success_percentage:.2f}%\")\n",
    "print(f\"Error Requests: {error_percentage:.2f}%\")\n"
   ]
  },
  {
   "cell_type": "code",
   "execution_count": 93,
   "id": "929fb746-1735-453a-b71b-b1ac304ce308",
   "metadata": {},
   "outputs": [
    {
     "name": "stdout",
     "output_type": "stream",
     "text": [
      "+-----------+-----------+\n",
      "|   endpoint|visit_count|\n",
      "+-----------+-----------+\n",
      "|     /about|       2037|\n",
      "|  /products|       2015|\n",
      "|   /contact|       2015|\n",
      "|  /services|       1980|\n",
      "|/index.html|       1953|\n",
      "+-----------+-----------+\n",
      "\n"
     ]
    }
   ],
   "source": [
    "# Top visited endpoints\n",
    "top_visited_endpoints = logs_df.groupBy(\"endpoint\").count() \\\n",
    "    .orderBy(desc(\"count\")).withColumnRenamed(\"count\", \"visit_count\")\n",
    "top_visited_endpoints.show(10)"
   ]
  },
  {
   "cell_type": "code",
   "execution_count": 105,
   "id": "09ffc308-900a-4270-b7c2-8414d5e35ca4",
   "metadata": {},
   "outputs": [
    {
     "data": {
      "image/png": "[encoded data removed]",
      "text/plain": [
       "<Figure size 2000x500 with 1 Axes>"
      ]
     },
     "metadata": {},
     "output_type": "display_data"
    }
   ],
   "source": [
    "import matplotlib.pyplot as plt\n",
    "\n",
    "# Example: Plot response code distribution\n",
    "response_code_pandas = response_code_counts.toPandas()\n",
    "plt.figure(figsize=(20,5))\n",
    "plt.bar(response_code_pandas['response_code'], response_code_pandas['count'])\n",
    "plt.xlabel('Response Code')\n",
    "plt.ylabel('Count')\n",
    "plt.title('Response Code Distribution')\n",
    "plt.show()"
   ]
  },
  {
   "cell_type": "code",
   "execution_count": 96,
   "id": "4c5d9300-2c93-4b28-828d-e41657769030",
   "metadata": {},
   "outputs": [
    {
     "data": {
      "image/png": "[encoded data removed]",
      "text/plain": [
       "<Figure size 2000x500 with 1 Axes>"
      ]
     },
     "metadata": {},
     "output_type": "display_data"
    }
   ],
   "source": [
    "import matplotlib.pyplot as plt\n",
    "\n",
    "# Example: Plot response code distribution\n",
    "frequent_visitors_pandas = response_code_counts.toPandas()\n",
    "plt.figure(figsize=(20,5))\n",
    "plt.bar(frequent_visitors_pandas['response_code'], frequent_visitors_pandas['count'])\n",
    "plt.xlabel('frequent_visitors')\n",
    "plt.ylabel('Count')\n",
    "plt.title('frequent_visitors Distribution')\n",
    "plt.show()"
   ]
  },
  {
   "cell_type": "code",
   "execution_count": null,
   "id": "e53acffb-58f2-4bfd-9ab4-97c7d88361bb",
   "metadata": {},
   "outputs": [],
   "source": []
  }
 ],
 "metadata": {
  "kernelspec": {
   "display_name": "Python 3 (ipykernel)",
   "language": "python",
   "name": "python3"
  },
  "language_info": {
   "codemirror_mode": {
    "name": "ipython",
    "version": 3
   },
   "file_extension": ".py",
   "mimetype": "text/x-python",
   "name": "python",
   "nbconvert_exporter": "python",
   "pygments_lexer": "ipython3",
   "version": "3.12.3"
  }
 },
 "nbformat": 4,
 "nbformat_minor": 5
}
