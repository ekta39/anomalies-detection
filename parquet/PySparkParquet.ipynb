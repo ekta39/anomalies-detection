{
 "cells": [
  {
   "cell_type": "code",
   "execution_count": 1,
   "id": "3581dd00-b729-482a-96af-7e218dcb2337",
   "metadata": {},
   "outputs": [],
   "source": [
    "#pip install pyarrow\n",
    "\n",
    "import pyarrow as pa\n",
    "import pyarrow.parquet as pq\n",
    "import pandas as pd\n",
    "import random\n",
    "import string\n",
    "from datetime import datetime, timedelta\n",
    "\n",
    "# Define the schema for the log file\n",
    "log_schema = pa.schema([\n",
    "    ('timestamp', pa.timestamp('ms')),\n",
    "    ('remote_host', pa.string()),\n",
    "    ('request_method', pa.string()),\n",
    "    ('request_endpoint', pa.string()),\n",
    "    ('protocol', pa.string()),\n",
    "    ('status_code', pa.int32()),\n",
    "    ('content_size', pa.int64())\n",
    "])\n",
    "\n",
    "# Generate random log data\n",
    "num_logs = 100000\n",
    "logs = []\n",
    "\n",
    "for i in range(num_logs):\n",
    "    timestamp = datetime.now() - timedelta(days=random.randint(1, 30))\n",
    "    remote_host = '.'.join([str(random.randint(0, 255)) for _ in range(4)])\n",
    "    request_method = random.choice(['GET', 'POST', 'PUT', 'DELETE'])\n",
    "    request_endpoint = '/' + ''.join(random.choices(string.ascii_lowercase + string.digits, k=random.randint(5, 15)))\n",
    "    protocol = 'HTTP/1.1'\n",
    "    status_code = random.choice([200, 404, 500, 302])\n",
    "    content_size = random.randint(100, 10000)\n",
    "\n",
    "    logs.append([timestamp, remote_host, request_method, request_endpoint, protocol, status_code, content_size])\n",
    "\n",
    "# Create a PyArrow Table from the log data\n",
    "log_table = pa.Table.from_pydict(dict(zip(log_schema.names, zip(*logs))), schema=log_schema)\n",
    "\n",
    "# Convert the PyArrow Table to a Pandas DataFrame\n",
    "log_df = log_table.to_pandas()\n",
    "\n",
    "# Save the DataFrame as a Parquet file\n",
    "pq.write_table(log_table, 'apache_logs.parquet')"
   ]
  },
  {
   "cell_type": "code",
   "execution_count": 2,
   "id": "cdaba93d-4f9a-4f2d-b2ae-3003db46f96a",
   "metadata": {},
   "outputs": [
    {
     "name": "stderr",
     "output_type": "stream",
     "text": [
      "Setting default log level to \"WARN\".\n",
      "To adjust logging level use sc.setLogLevel(newLevel). For SparkR, use setLogLevel(newLevel).\n",
      "24/05/20 18:08:51 WARN NativeCodeLoader: Unable to load native-hadoop library for your platform... using builtin-java classes where applicable\n",
      "24/05/20 18:08:51 WARN Utils: Service 'SparkUI' could not bind on port 4040. Attempting port 4041.\n"
     ]
    }
   ],
   "source": [
    "# Initialize SparkSession\n",
    "import matplotlib.pyplot as plt\n",
    "from pyspark.sql.functions import *\n",
    "from pyspark.sql import SparkSession, Window\n",
    "spark = SparkSession.builder.appName(\"Generate Sample Apache Logs\").getOrCreate()"
   ]
  },
  {
   "cell_type": "code",
   "execution_count": 3,
   "id": "ff82372a-99b2-4db3-aadc-fcdcbbdca730",
   "metadata": {},
   "outputs": [
    {
     "name": "stderr",
     "output_type": "stream",
     "text": [
      "                                                                                \r"
     ]
    }
   ],
   "source": [
    "logs_df = spark.read.parquet(\"apache_logs.parquet\")"
   ]
  },
  {
   "cell_type": "code",
   "execution_count": 4,
   "id": "4eb3643b-c9f0-46ef-9a22-f10cf1f9eacc",
   "metadata": {},
   "outputs": [
    {
     "name": "stderr",
     "output_type": "stream",
     "text": [
      "                                                                                \r"
     ]
    },
    {
     "name": "stdout",
     "output_type": "stream",
     "text": [
      "+-----------------------+---------------+--------------+----------------+--------+-----------+------------+\n",
      "|timestamp              |remote_host    |request_method|request_endpoint|protocol|status_code|content_size|\n",
      "+-----------------------+---------------+--------------+----------------+--------+-----------+------------+\n",
      "|2024-04-23 18:08:45.344|189.74.74.146  |GET           |/b8u1r          |HTTP/1.1|500        |3915        |\n",
      "|2024-04-29 18:08:45.344|129.48.189.248 |GET           |/lrub2us0x8bnh2 |HTTP/1.1|302        |4969        |\n",
      "|2024-05-11 18:08:45.344|66.18.19.33    |POST          |/ivqe9f4qqqfpn  |HTTP/1.1|404        |2404        |\n",
      "|2024-05-03 18:08:45.344|180.247.206.156|POST          |/e09vnw2y7hosv  |HTTP/1.1|404        |3701        |\n",
      "|2024-05-13 18:08:45.344|89.240.111.26  |DELETE        |/r2lqk          |HTTP/1.1|200        |2488        |\n",
      "+-----------------------+---------------+--------------+----------------+--------+-----------+------------+\n",
      "only showing top 5 rows\n",
      "\n"
     ]
    }
   ],
   "source": [
    "logs_df.show(5, truncate=False)"
   ]
  },
  {
   "cell_type": "code",
   "execution_count": 5,
   "id": "3572d5ed-dd4d-42ab-908f-086fc23adf69",
   "metadata": {},
   "outputs": [
    {
     "name": "stdout",
     "output_type": "stream",
     "text": [
      "+----------------+-----+\n",
      "|request_endpoint|count|\n",
      "+----------------+-----+\n",
      "|          /bg5bq|    1|\n",
      "|         /yktuhw|    1|\n",
      "|    /07f7i2ffhdh|    1|\n",
      "|     /4gizyjp319|    1|\n",
      "|  /4gqt669wrgjtu|    1|\n",
      "|/dpai2cwzkeqg4ek|    1|\n",
      "|/l1nfuupt6e87zqj|    1|\n",
      "|/mbvfro07iqv6pqy|    1|\n",
      "|       /48rtc3p3|    1|\n",
      "|  /56ndc23yi9lrm|    1|\n",
      "+----------------+-----+\n",
      "only showing top 10 rows\n",
      "\n"
     ]
    }
   ],
   "source": [
    "# Traffic Analysis: Top Endpoints\n",
    "top_endpoints = logs_df.groupBy(\"request_endpoint\").count().orderBy(\"count\", ascending=False)\n",
    "top_endpoints.show(10)"
   ]
  },
  {
   "cell_type": "code",
   "execution_count": 6,
   "id": "4e5ed085-56d3-433f-80a0-3d8052eec5ac",
   "metadata": {},
   "outputs": [],
   "source": [
    "# Cast content_size to integer\n",
    "logs_df = logs_df.withColumn(\"content_size\", col(\"content_size\").cast(\"int\"))"
   ]
  },
  {
   "cell_type": "code",
   "execution_count": 7,
   "id": "76237174-4a8a-442a-a680-148d5001bb6b",
   "metadata": {},
   "outputs": [
    {
     "name": "stdout",
     "output_type": "stream",
     "text": [
      "+----------------+------------------+\n",
      "|request_endpoint|total_content_size|\n",
      "+----------------+------------------+\n",
      "|   /8u23qivfayue|             10000|\n",
      "|     /6edza5ajr3|             10000|\n",
      "|          /ylzg6|             10000|\n",
      "|     /umzpc6hy1c|             10000|\n",
      "|    /o7so55fi9bn|             10000|\n",
      "|/a1w5l5b4hsm7u18|             10000|\n",
      "| /u04r6efbq1iicb|             10000|\n",
      "|     /sx3dda4lcy|             10000|\n",
      "|      /6paxg5u6g|              9999|\n",
      "|      /e17ivscia|              9999|\n",
      "+----------------+------------------+\n",
      "only showing top 10 rows\n",
      "\n"
     ]
    }
   ],
   "source": [
    "# Top endpoints transferring maximum content\n",
    "top_endpoints_by_content = logs_df.groupBy(\"request_endpoint\").sum(\"content_size\") \\\n",
    "    .orderBy(desc(\"sum(content_size)\")).withColumnRenamed(\"sum(content_size)\", \"total_content_size\")\n",
    "top_endpoints_by_content.show(10)"
   ]
  },
  {
   "cell_type": "code",
   "execution_count": 8,
   "id": "1c9c4f7c-994b-4393-b219-dabe9163cf71",
   "metadata": {},
   "outputs": [
    {
     "name": "stdout",
     "output_type": "stream",
     "text": [
      "+---------------+-----+\n",
      "|    remote_host|count|\n",
      "+---------------+-----+\n",
      "|  98.154.144.89|    2|\n",
      "|    3.25.48.198|    1|\n",
      "| 201.135.212.32|    1|\n",
      "|  15.32.153.164|    1|\n",
      "|   64.20.227.83|    1|\n",
      "| 37.179.158.180|    1|\n",
      "| 152.191.195.23|    1|\n",
      "|  102.55.245.83|    1|\n",
      "|  42.105.224.40|    1|\n",
      "| 178.159.233.81|    1|\n",
      "|  154.28.108.64|    1|\n",
      "|111.142.211.151|    1|\n",
      "|  71.68.118.219|    1|\n",
      "|   243.74.59.99|    1|\n",
      "|148.249.220.126|    1|\n",
      "|  170.191.63.49|    1|\n",
      "| 18.172.103.151|    1|\n",
      "|148.204.134.220|    1|\n",
      "|    5.157.43.17|    1|\n",
      "|  68.210.194.76|    1|\n",
      "+---------------+-----+\n",
      "only showing top 20 rows\n",
      "\n"
     ]
    }
   ],
   "source": [
    "frequent_visitors = logs_df.groupBy(\"remote_host\").count().filter(col(\"count\") >= 1).orderBy(\"count\", ascending=False)\n",
    "frequent_visitors.show()"
   ]
  },
  {
   "cell_type": "code",
   "execution_count": 9,
   "id": "5a14a2a7-0d78-450d-bdd3-0e5b3a0f34cb",
   "metadata": {},
   "outputs": [
    {
     "name": "stdout",
     "output_type": "stream",
     "text": [
      "+----------------+----------------+--------------+--------------+\n",
      "|min_content_size|max_content_size|total_requests|total_requests|\n",
      "+----------------+----------------+--------------+--------------+\n",
      "|             100|           10000|    5049.87157|        100000|\n",
      "+----------------+----------------+--------------+--------------+\n",
      "\n"
     ]
    }
   ],
   "source": [
    "# Calculating statistics related to content size \n",
    "content_size_stats = logs_df.select( min(\"content_size\").alias(\"min_content_size\"),\n",
    "                                     max(\"content_size\").alias(\"max_content_size\"),\n",
    "                                     avg(\"content_size\").alias(\"total_requests\"),\n",
    "                                     count(\"content_size\").alias(\"total_requests\"))\n",
    "content_size_stats.show()\n"
   ]
  },
  {
   "cell_type": "code",
   "execution_count": 10,
   "id": "1045c8b0-0ff0-4484-af11-d5e5a92132af",
   "metadata": {},
   "outputs": [
    {
     "name": "stdout",
     "output_type": "stream",
     "text": [
      "+-----------+-----+\n",
      "|remote_host|count|\n",
      "+-----------+-----+\n",
      "+-----------+-----+\n",
      "\n"
     ]
    }
   ],
   "source": [
    "# Anomaly Detection\n",
    "#IPs with More Than 10 Requests\n",
    "\n",
    "anomalous_ips = logs_df.groupBy(\"remote_host\").count().filter(col(\"count\") >= 10)\n",
    "anomalous_ips.show()"
   ]
  },
  {
   "cell_type": "code",
   "execution_count": 11,
   "id": "570f720a-290e-4048-8243-9c222116246b",
   "metadata": {},
   "outputs": [
    {
     "name": "stdout",
     "output_type": "stream",
     "text": [
      "+-----------------------+----------------+\n",
      "|timestamp              |request_endpoint|\n",
      "+-----------------------+----------------+\n",
      "|2024-05-19 18:08:46.512|/tazajfc        |\n",
      "|2024-05-19 18:08:46.51 |/pzcbbj         |\n",
      "|2024-05-19 18:08:46.51 |/q6bz75gaa6q5e  |\n",
      "|2024-05-19 18:08:46.507|/fb2i9usc       |\n",
      "|2024-05-19 18:08:46.507|/83uol6zn0ioevw7|\n",
      "|2024-05-19 18:08:46.507|/tr04069l       |\n",
      "|2024-05-19 18:08:46.506|/wtlr787p4g     |\n",
      "|2024-05-19 18:08:46.506|/zwe78s         |\n",
      "|2024-05-19 18:08:46.502|/iymq7udtk8nn   |\n",
      "|2024-05-19 18:08:46.501|/2lqy2r7kpg     |\n",
      "+-----------------------+----------------+\n",
      "\n"
     ]
    }
   ],
   "source": [
    "# 404 Requests\n",
    "\n",
    "latest_404_requests = logs_df.filter(col(\"status_code\") == 404).orderBy(col(\"timestamp\"),\\\n",
    "                       ascending=False).select(\"timestamp\", \"request_endpoint\").limit(10)\n",
    "\n",
    "latest_404_requests.show(truncate=False)"
   ]
  },
  {
   "cell_type": "code",
   "execution_count": 20,
   "id": "00964049-8184-4e68-ac1c-e9dd3cd4d1aa",
   "metadata": {},
   "outputs": [
    {
     "name": "stdout",
     "output_type": "stream",
     "text": [
      "+----------------+-----------------------+\n",
      "|request_endpoint|timestamp              |\n",
      "+----------------+-----------------------+\n",
      "|/fodqjfng97qef  |2024-04-20 18:08:46.513|\n",
      "|/x2j1vimo3saq   |2024-04-20 18:08:46.511|\n",
      "|/sbzikq         |2024-04-20 18:08:46.508|\n",
      "|/1d8idad        |2024-04-20 18:08:46.507|\n",
      "|/q66a1ukr6t     |2024-04-20 18:08:46.503|\n",
      "|/vrpiyoa        |2024-04-20 18:08:46.501|\n",
      "|/dh0m199vrj6ys  |2024-04-20 18:08:46.499|\n",
      "|/yh935f         |2024-04-20 18:08:46.498|\n",
      "|/yy18gkrdgqb4   |2024-04-20 18:08:46.497|\n",
      "|/ndlly          |2024-04-20 18:08:46.496|\n",
      "|/edm1df4pn2     |2024-04-21 18:08:46.514|\n",
      "|/gszoueq        |2024-04-21 18:08:46.513|\n",
      "|/lusy6h         |2024-04-21 18:08:46.512|\n",
      "|/g5ti88         |2024-04-21 18:08:46.511|\n",
      "|/mqkya6jpvhkuhs0|2024-04-21 18:08:46.511|\n",
      "|/usq8h6th       |2024-04-21 18:08:46.506|\n",
      "|/wbfov          |2024-04-21 18:08:46.506|\n",
      "|/yjc4qlxv39mej  |2024-04-21 18:08:46.504|\n",
      "|/qxcxj4wlbvy7   |2024-04-21 18:08:46.5  |\n",
      "|/6bigjwy7gae4g  |2024-04-21 18:08:46.499|\n",
      "+----------------+-----------------------+\n",
      "only showing top 20 rows\n",
      "\n"
     ]
    }
   ],
   "source": [
    "# Analyze bad requests (404 errors)\n",
    "bad_requests = logs_df.filter(col(\"status_code\") == 404).orderBy(desc(\"timestamp\")).select(\"request_endpoint\", \"timestamp\")\n",
    "bad_requests_partitioned = bad_requests.withColumn(\"date\", to_date(col(\"timestamp\")))\n",
    "window = Window.partitionBy(\"date\").orderBy(desc(\"timestamp\"))\n",
    "bad_requests_top10 = bad_requests_partitioned.withColumn(\"row_num\", row_number().over(window)).filter(col(\"row_num\") <= 10).\\\n",
    "drop(\"row_num\", \"date\")\n",
    "bad_requests_top10.show(truncate = False)"
   ]
  },
  {
   "cell_type": "code",
   "execution_count": 12,
   "id": "52f1ff78-ccca-4b3b-acd9-3b5525639506",
   "metadata": {},
   "outputs": [
    {
     "name": "stdout",
     "output_type": "stream",
     "text": [
      "+--------------+-----+\n",
      "|request_method|count|\n",
      "+--------------+-----+\n",
      "|        DELETE|24869|\n",
      "|           GET|25190|\n",
      "|          POST|24802|\n",
      "|           PUT|25139|\n",
      "+--------------+-----+\n",
      "\n"
     ]
    }
   ],
   "source": [
    "# Count of Requests by HTTP Method\n",
    "requests_by_method = logs_df.groupBy(\"request_method\").count().orderBy(\"request_method\")\n",
    "requests_by_method.show()"
   ]
  },
  {
   "cell_type": "code",
   "execution_count": 13,
   "id": "7d100690-adb5-4d96-926d-631c127d6b24",
   "metadata": {},
   "outputs": [
    {
     "name": "stdout",
     "output_type": "stream",
     "text": [
      "+-----------+-----+\n",
      "|status_code|count|\n",
      "+-----------+-----+\n",
      "|        200|24906|\n",
      "|        302|24957|\n",
      "|        404|24952|\n",
      "|        500|25185|\n",
      "+-----------+-----+\n",
      "\n"
     ]
    }
   ],
   "source": [
    "# Response Code Analysis\n",
    "response_code_analysis = logs_df.groupBy(\"status_code\").count().orderBy(\"status_code\")\n",
    "response_code_analysis.show()"
   ]
  },
  {
   "cell_type": "code",
   "execution_count": 14,
   "id": "ae9712c5-789e-441e-ad78-034ccf401832",
   "metadata": {},
   "outputs": [
    {
     "name": "stdout",
     "output_type": "stream",
     "text": [
      "Successful Requests: 24.91%\n",
      "Error Requests: 75.09%\n"
     ]
    }
   ],
   "source": [
    "# Calculate percentage of successful requests\n",
    "total_requests = logs_df.count()\n",
    "successful_requests = logs_df.filter(col(\"status_code\") == 200).count()\n",
    "error_requests = total_requests - successful_requests\n",
    "success_percentage = (successful_requests / total_requests) * 100\n",
    "error_percentage = 100 - success_percentage\n",
    "print(f\"Successful Requests: {success_percentage:.2f}%\")\n",
    "print(f\"Error Requests: {error_percentage:.2f}%\")\n"
   ]
  },
  {
   "cell_type": "code",
   "execution_count": 15,
   "id": "b2e5eb39-467c-40d5-9e1a-acc8dbd214b1",
   "metadata": {},
   "outputs": [
    {
     "name": "stdout",
     "output_type": "stream",
     "text": [
      "+----------------+-----------+\n",
      "|request_endpoint|visit_count|\n",
      "+----------------+-----------+\n",
      "|          /bg5bq|          1|\n",
      "|         /yktuhw|          1|\n",
      "|    /07f7i2ffhdh|          1|\n",
      "|     /4gizyjp319|          1|\n",
      "|  /4gqt669wrgjtu|          1|\n",
      "|/dpai2cwzkeqg4ek|          1|\n",
      "|/l1nfuupt6e87zqj|          1|\n",
      "|/mbvfro07iqv6pqy|          1|\n",
      "|       /48rtc3p3|          1|\n",
      "|  /56ndc23yi9lrm|          1|\n",
      "+----------------+-----------+\n",
      "only showing top 10 rows\n",
      "\n"
     ]
    }
   ],
   "source": [
    "# Top visited endpoints\n",
    "top_visited_endpoints = logs_df.groupBy(\"request_endpoint\").count() \\\n",
    "    .orderBy(desc(\"count\")).withColumnRenamed(\"count\", \"visit_count\")\n",
    "top_visited_endpoints.show(10)"
   ]
  },
  {
   "cell_type": "code",
   "execution_count": 16,
   "id": "ce0cce19-9ad6-494b-9ac1-07547a7c8010",
   "metadata": {},
   "outputs": [
    {
     "name": "stdout",
     "output_type": "stream",
     "text": [
      "+----------+------------------+\n",
      "|      date|daily_content_size|\n",
      "+----------+------------------+\n",
      "|2024-04-20|          16022171|\n",
      "|2024-04-21|          17058708|\n",
      "|2024-04-22|          17259726|\n",
      "|2024-04-23|          16165858|\n",
      "|2024-04-24|          17462657|\n",
      "|2024-04-25|          16861813|\n",
      "|2024-04-26|          17181444|\n",
      "|2024-04-27|          16844468|\n",
      "|2024-04-28|          17183367|\n",
      "|2024-04-29|          16929947|\n",
      "|2024-04-30|          16454773|\n",
      "|2024-05-01|          17133472|\n",
      "|2024-05-02|          16908708|\n",
      "|2024-05-03|          16752894|\n",
      "|2024-05-04|          17043402|\n",
      "|2024-05-05|          16666389|\n",
      "|2024-05-06|          17062423|\n",
      "|2024-05-07|          16857154|\n",
      "|2024-05-08|          16729244|\n",
      "|2024-05-09|          16312687|\n",
      "+----------+------------------+\n",
      "only showing top 20 rows\n",
      "\n"
     ]
    }
   ],
   "source": [
    "# Daily visited content size\n",
    "daily_content_size = logs_df.withColumn(\"date\", to_date(col(\"timestamp\"))).groupBy(\"date\").agg(sum(\"content_size\").alias(\"daily_content_size\")).orderBy(\"date\")\n",
    "daily_content_size.show()"
   ]
  },
  {
   "cell_type": "code",
   "execution_count": 17,
   "id": "fac9e5bf-9558-49b5-b106-9f5830bb2206",
   "metadata": {},
   "outputs": [
    {
     "name": "stdout",
     "output_type": "stream",
     "text": [
      "+----------------+-------------+\n",
      "|request_endpoint|total_content|\n",
      "+----------------+-------------+\n",
      "|          /bg5bq|         8660|\n",
      "|         /yktuhw|         1619|\n",
      "|    /07f7i2ffhdh|         3886|\n",
      "|     /4gizyjp319|         4338|\n",
      "|  /4gqt669wrgjtu|         8861|\n",
      "|/dpai2cwzkeqg4ek|         6962|\n",
      "|/l1nfuupt6e87zqj|          702|\n",
      "|/mbvfro07iqv6pqy|         5890|\n",
      "|       /48rtc3p3|         5813|\n",
      "|  /56ndc23yi9lrm|         8063|\n",
      "+----------------+-------------+\n",
      "\n"
     ]
    }
   ],
   "source": [
    "\n",
    "# Top endpoints transferring maximum content\n",
    "top_content_endpoints = (\n",
    "    logs_df.groupBy(\"request_endpoint\")\n",
    "    .agg(sum(\"content_size\").alias(\"total_content\"))\n",
    "    .orderBy(desc(cast(\"total_content\", lit(\"string\")))).limit(10)\n",
    ")\n",
    "top_content_endpoints.show()\n"
   ]
  },
  {
   "cell_type": "code",
   "execution_count": 18,
   "id": "72e889aa-648a-4ab7-bedf-5cfee516b145",
   "metadata": {},
   "outputs": [
    {
     "data": {
      "image/png": "[encoded data removed]",
      "text/plain": [
       "<Figure size 2000x500 with 1 Axes>"
      ]
     },
     "metadata": {},
     "output_type": "display_data"
    }
   ],
   "source": [
    "# Analyze response codes\n",
    "response_code_counts = logs_df.groupBy(\"status_code\").agg(count(\"*\").alias(\"count\")).orderBy(desc(\"count\"))\n",
    "\n",
    "# Example: Plot response code distribution\n",
    "response_code_pandas = response_code_counts.toPandas()\n",
    "\n",
    "plt.figure(figsize=(20, 5))\n",
    "plt.bar(response_code_pandas['status_code'], response_code_pandas['count'])\n",
    "plt.xlabel('status_code')\n",
    "plt.ylabel('Count')\n",
    "plt.title('Response Code Distribution')\n",
    "plt.show()"
   ]
  }
 ],
 "metadata": {
  "kernelspec": {
   "display_name": "Python 3 (ipykernel)",
   "language": "python",
   "name": "python3"
  },
  "language_info": {
   "codemirror_mode": {
    "name": "ipython",
    "version": 3
   },
   "file_extension": ".py",
   "mimetype": "text/x-python",
   "name": "python",
   "nbconvert_exporter": "python",
   "pygments_lexer": "ipython3",
   "version": "3.12.3"
  }
 },
 "nbformat": 4,
 "nbformat_minor": 5
}
