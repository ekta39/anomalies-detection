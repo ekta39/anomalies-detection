{
 "cells": [
  {
   "cell_type": "code",
   "execution_count": null,
   "id": "e80f4360-fff3-4dd5-81bf-cbace72e7d9e",
   "metadata": {},
   "outputs": [],
   "source": [
    "# Installing the dependencies\n",
    "pip install matplotlib\n",
    "pip install pyspark"
   ]
  },
  {
   "cell_type": "code",
   "execution_count": null,
   "id": "59545df6-deb0-4f25-8ab9-8b51816195e3",
   "metadata": {},
   "outputs": [],
   "source": [
    "# Generating the test data\n",
    "\n",
    "from pyspark.sql import SparkSession\n",
    "from pyspark.sql.functions import lit\n",
    "\n",
    "# Initialize SparkSession\n",
    "spark = SparkSession.builder \\\n",
    "    .appName(\"Generate Sample Apache Logs\") \\\n",
    "    .getOrCreate()\n",
    "\n",
    "# Generate sample data\n",
    "sample_data = [\n",
    "    (\"2024-05-19T08:00:00\", \"GET /api/endpoint1 HTTP/1.1\", \"200\", \"192.168.1.1\", 1024),\n",
    "    (\"2024-05-19T08:01:00\", \"POST /api/endpoint2 HTTP/1.1\", \"404\", \"192.168.1.2\", 2048),\n",
    "    (\"2024-05-19T08:02:00\", \"GET /api/endpoint1 HTTP/1.1\", \"200\", \"192.168.1.3\", 4096),\n",
    "    # Add more sample data as needed\n",
    "]\n",
    "\n",
    "# Define schema\n",
    "schema = [\"timestamp\", \"request\", \"response\", \"ip\", \"size\"]\n",
    "\n",
    "# Create DataFrame\n",
    "logs_df = spark.createDataFrame(sample_data, schema=schema)\n",
    "\n",
    "# Save DataFrame as Parquet file\n",
    "logs_df.write.mode(\"overwrite\").parquet(\"data/apache_logs.parquet\")\n",
    "\n",
    "# Stop SparkSession\n",
    "spark.stop()\n"
   ]
  },
  {
   "cell_type": "code",
   "execution_count": null,
   "id": "470909a0-2376-42ed-890b-00589065e50a",
   "metadata": {},
   "outputs": [],
   "source": [
    "!pwd"
   ]
  },
  {
   "cell_type": "code",
   "execution_count": null,
   "id": "5050d145-4d9e-4de4-a117-f26beb7ff941",
   "metadata": {},
   "outputs": [],
   "source": [
    "# Data Ingestion\n",
    "# loading Apache Access logs stored in parquet files in my local laptop\n",
    "\n",
    "from pyspark.sql import SparkSession\n",
    "\n",
    "spark = SparkSession.builder.appName(\"API Log Anomaly Detection\").getOrCreate()\n",
    "\n",
    "# Load data\n",
    "logs_df = spark.read.parquet(\"data/apache_logs.parquet\")\n",
    "logs_df.show(5)\n"
   ]
  },
  {
   "cell_type": "code",
   "execution_count": null,
   "id": "13b8508d-b96a-4a25-a12f-ae345244ddc9",
   "metadata": {},
   "outputs": [],
   "source": [
    "# Data Transformation\n",
    "\n",
    "from pyspark.sql.functions import col, split\n",
    "\n",
    "logs_df = logs_df.withColumn(\"response_code\", col(\"response\").cast(\"int\"))\n",
    "logs_df = logs_df.withColumn(\"content_size\", col(\"size\").cast(\"int\"))\n",
    "logs_df = logs_df.withColumn(\"endpoint\", split(col(\"request\"), \" \")[1])\n",
    "logs_df.show(5)\n"
   ]
  },
  {
   "cell_type": "code",
   "execution_count": null,
   "id": "0fba4a4a-31ac-4f0e-900d-e00225e5210a",
   "metadata": {},
   "outputs": [],
   "source": [
    "# Data Analysis: Response Code Analysis\n",
    "response_code_counts = logs_df.groupBy(\"response_code\").count().orderBy(\"count\", ascending=False)\n",
    "response_code_counts.show()"
   ]
  },
  {
   "cell_type": "code",
   "execution_count": null,
   "id": "c52cc759-59b4-480a-8855-e5858bdecc2a",
   "metadata": {},
   "outputs": [],
   "source": [
    "# Traffic Analysis: Top Endpoints\n",
    "top_endpoints = logs_df.groupBy(\"endpoint\").count().orderBy(\"count\", ascending=False)\n",
    "top_endpoints.show(10)"
   ]
  },
  {
   "cell_type": "code",
   "execution_count": null,
   "id": "e55ef4ec-63d1-4a1c-8ccf-5c99b663b80d",
   "metadata": {},
   "outputs": [],
   "source": [
    "# Frequent Visitors\n",
    "\n",
    "frequent_visitors = logs_df.groupBy(\"ip\").count().filter(col(\"count\") > 10).orderBy(\"count\", ascending=False)\n",
    "frequent_visitors.show(10)"
   ]
  },
  {
   "cell_type": "code",
   "execution_count": null,
   "id": "528e552d-becc-456f-aa48-1bc505fd543c",
   "metadata": {},
   "outputs": [],
   "source": [
    "# Content Size Statistics\n",
    "from pyspark.sql.functions import min, max, avg\n",
    "\n",
    "content_size_stats = logs_df.select(min(\"content_size\"), max(\"content_size\"), avg(\"content_size\"))\n",
    "content_size_stats.show()\n"
   ]
  },
  {
   "cell_type": "code",
   "execution_count": null,
   "id": "e07543a5-8778-4c54-9146-dce90d4f254a",
   "metadata": {},
   "outputs": [],
   "source": [
    "# Anomaly Detection\n",
    "#IPs with More Than 10 Requests\n",
    "\n",
    "anomalous_ips = logs_df.groupBy(\"ip\").count().filter(col(\"count\") > 10)\n",
    "anomalous_ips.show()\n"
   ]
  },
  {
   "cell_type": "code",
   "execution_count": null,
   "id": "8afdfe40-17ba-4c69-8390-6ca9ebe01f7a",
   "metadata": {},
   "outputs": [],
   "source": [
    "# 404 Requests\n",
    "\n",
    "latest_404_requests = logs_df.filter(col(\"response_code\") == 404).orderBy(col(\"timestamp\"), ascending=False).select(\"timestamp\", \"endpoint\").limit(10)\n",
    "latest_404_requests.show()\n",
    "\n"
   ]
  },
  {
   "cell_type": "code",
   "execution_count": null,
   "id": "273c6724-066c-43a7-b504-445fb86eb221",
   "metadata": {},
   "outputs": [],
   "source": [
    "# \n",
    "\n",
    "import matplotlib.pyplot as plt\n",
    "\n",
    "# Example: Plot response code distribution\n",
    "response_code_pandas = response_code_counts.toPandas()\n",
    "plt.figure(figsize=(10,6))\n",
    "plt.bar(response_code_pandas['response_code'], response_code_pandas['count'])\n",
    "plt.xlabel('Response Code')\n",
    "plt.ylabel('Count')\n",
    "plt.title('Response Code Distribution')\n",
    "plt.show()\n"
   ]
  },
  {
   "cell_type": "code",
   "execution_count": null,
   "id": "1b97d970-6b2c-4d3f-8d7a-37f318ebb711",
   "metadata": {},
   "outputs": [],
   "source": []
  }
 ],
 "metadata": {
  "kernelspec": {
   "display_name": "Python 3 (ipykernel)",
   "language": "python",
   "name": "python3"
  },
  "language_info": {
   "codemirror_mode": {
    "name": "ipython",
    "version": 3
   },
   "file_extension": ".py",
   "mimetype": "text/x-python",
   "name": "python",
   "nbconvert_exporter": "python",
   "pygments_lexer": "ipython3",
   "version": "3.12.3"
  }
 },
 "nbformat": 4,
 "nbformat_minor": 5
}
